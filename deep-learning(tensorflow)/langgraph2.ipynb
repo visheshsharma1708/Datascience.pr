{
 "cells": [
  {
   "cell_type": "markdown",
   "id": "e7a9e86e",
   "metadata": {},
   "source": [
    "ADO (Automated Data Operations) classification graph for \"bad exposure\" and \"credential expired\" "
   ]
  },
  {
   "cell_type": "code",
   "execution_count": 1,
   "id": "3da12a21",
   "metadata": {},
   "outputs": [],
   "source": [
    "from typing import TypedDict, Literal\n",
    "from langgraph.graph import StateGraph, END\n",
    "from langchain_core.runnables.graph import MermaidDrawMethod\n",
    "from IPython.display import display, Image\n",
    "\n",
    "# Define your custom state for classification\n",
    "class IssueState(TypedDict):\n",
    "    issue: str\n",
    "    classification: Literal[\"bad_exposure\", \"credential_expired\", \"unknown\"]\n",
    "\n"
   ]
  },
  {
   "cell_type": "code",
   "execution_count": 2,
   "id": "c926fec0",
   "metadata": {},
   "outputs": [],
   "source": [
    "def classify_issue(state: IssueState) -> IssueState:\n",
    "    issue = state[\"issue\"].lower()\n",
    "    if \"exposure\" in issue:\n",
    "        state[\"classification\"] = \"bad_exposure\"\n",
    "    elif \"credential\" in issue or \"expired\" in issue:\n",
    "        state[\"classification\"] = \"credential_expired\"\n",
    "    else:\n",
    "        state[\"classification\"] = \"unknown\"\n",
    "    return state\n"
   ]
  },
  {
   "cell_type": "code",
   "execution_count": 4,
   "id": "4a172b53",
   "metadata": {},
   "outputs": [],
   "source": [
    "def handle_bad_exposure(state: IssueState) -> IssueState:\n",
    "    print(\" Handling bad exposure issue.\")\n",
    "    return state\n",
    "\n",
    "def handle_credential_expired(state: IssueState) -> IssueState:\n",
    "    print(\" Handling credential expired issue.\")\n",
    "    return state\n",
    "\n",
    "def handle_unknown(state: IssueState) -> IssueState:\n",
    "    print(\" Unknown issue. Needs manual review.\")\n",
    "    return state\n"
   ]
  },
  {
   "cell_type": "code",
   "execution_count": 5,
   "id": "44fa045b",
   "metadata": {},
   "outputs": [],
   "source": [
    "def route_classification(state: IssueState) -> str:\n",
    "    return state[\"classification\"]\n"
   ]
  },
  {
   "cell_type": "code",
   "execution_count": 6,
   "id": "dba8426d",
   "metadata": {},
   "outputs": [],
   "source": [
    "# Step-by-step build\n",
    "builder = StateGraph(IssueState)\n",
    "\n",
    "builder.add_node(\"classify_issue\", classify_issue)\n",
    "builder.add_node(\"handle_bad_exposure\", handle_bad_exposure)\n",
    "builder.add_node(\"handle_credential_expired\", handle_credential_expired)\n",
    "builder.add_node(\"handle_unknown\", handle_unknown)\n",
    "\n",
    "# Start → classify\n",
    "builder.add_edge(\"classify_issue\", END)\n",
    "\n",
    "# Add conditional routing from classify_issue\n",
    "builder.add_conditional_edges(\n",
    "    \"classify_issue\",\n",
    "    route_classification,\n",
    "    {\n",
    "        \"bad_exposure\": \"handle_bad_exposure\",\n",
    "        \"credential_expired\": \"handle_credential_expired\",\n",
    "        \"unknown\": \"handle_unknown\"\n",
    "    }\n",
    ")\n",
    "\n",
    "# Connect all handlers to END\n",
    "builder.add_edge(\"handle_bad_exposure\", END)\n",
    "builder.add_edge(\"handle_credential_expired\", END)\n",
    "builder.add_edge(\"handle_unknown\", END)\n",
    "\n",
    "# Add entry point\n",
    "builder.set_entry_point(\"classify_issue\")\n",
    "\n",
    "# Compile\n",
    "graph = builder.compile()\n"
   ]
  },
  {
   "cell_type": "code",
   "execution_count": 12,
   "id": "054c6738",
   "metadata": {},
   "outputs": [
    {
     "name": "stdout",
     "output_type": "stream",
     "text": [
      " Handling bad exposure issue.\n",
      "Output: {'issue': 'The exposure settings are incorrect.', 'classification': 'bad_exposure'}\n"
     ]
    }
   ],
   "source": [
    "# Run with a sample input for bad exposure\n",
    "output = graph.invoke({\"issue\": \"The exposure settings are incorrect.\"})\n",
    "print(\"Output:\", output)\n"
   ]
  },
  {
   "cell_type": "code",
   "execution_count": 13,
   "id": "11276ab7",
   "metadata": {},
   "outputs": [
    {
     "name": "stdout",
     "output_type": "stream",
     "text": [
      " Handling credential expired issue.\n",
      "Output: {'issue': 'The credentials have expired for this system.', 'classification': 'credential_expired'}\n"
     ]
    }
   ],
   "source": [
    "# Run with a sample input for credential expired\n",
    "output = graph.invoke({\"issue\": \"The credentials have expired for this system.\"})\n",
    "print(\"Output:\", output)\n",
    "\n"
   ]
  },
  {
   "cell_type": "code",
   "execution_count": 14,
   "id": "fd933207",
   "metadata": {},
   "outputs": [
    {
     "name": "stdout",
     "output_type": "stream",
     "text": [
      " Unknown issue. Needs manual review.\n",
      "Output: {'issue': 'System is overheating.', 'classification': 'unknown'}\n"
     ]
    }
   ],
   "source": [
    "# Run with an unknown issue\n",
    "output = graph.invoke({\"issue\": \"System is overheating.\"})\n",
    "print(\"Output:\", output)\n"
   ]
  }
 ],
 "metadata": {
  "kernelspec": {
   "display_name": "venv (3.13.1)",
   "language": "python",
   "name": "python3"
  },
  "language_info": {
   "codemirror_mode": {
    "name": "ipython",
    "version": 3
   },
   "file_extension": ".py",
   "mimetype": "text/x-python",
   "name": "python",
   "nbconvert_exporter": "python",
   "pygments_lexer": "ipython3",
   "version": "3.13.1"
  }
 },
 "nbformat": 4,
 "nbformat_minor": 5
}
