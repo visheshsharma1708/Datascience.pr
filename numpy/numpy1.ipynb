{
 "cells": [
  {
   "cell_type": "markdown",
   "id": "cf0340b8",
   "metadata": {},
   "source": [
    "# Introduction for numpy\n",
    "### As it is the base library for Data science "
   ]
  },
  {
   "cell_type": "code",
   "execution_count": 1,
   "id": "9bdb0ac5",
   "metadata": {},
   "outputs": [],
   "source": [
    "import numpy as np"
   ]
  },
  {
   "cell_type": "code",
   "execution_count": 2,
   "id": "60849ee3",
   "metadata": {},
   "outputs": [
    {
     "name": "stdout",
     "output_type": "stream",
     "text": [
      "1_d array= [1 2 3 4]\n",
      "2_d array= [[1 2 3 4]\n",
      " [4 5 6 7]]\n"
     ]
    }
   ],
   "source": [
    "arr_1d= np.array([1,2,3,4])\n",
    "arr_2d= np.array([[1,2,3,4],[4,5,6,7]])\n",
    "print(\"1_d array=\",arr_1d)\n",
    "print(\"2_d array=\",arr_2d)"
   ]
  },
  {
   "cell_type": "markdown",
   "id": "6605d687",
   "metadata": {},
   "source": [
    "## List vs Numpy\n"
   ]
  },
  {
   "cell_type": "code",
   "execution_count": 3,
   "id": "d929de54",
   "metadata": {},
   "outputs": [
    {
     "name": "stdout",
     "output_type": "stream",
     "text": [
      "python list multiplication= [1, 2, 3, 1, 2, 3]\n",
      "python array multiplication = [2 4 6]\n"
     ]
    }
   ],
   "source": [
    "py=[1,2,3]\n",
    "print(\"python list multiplication=\",py*2)\n",
    "np =np.array([1,2,3,])\n",
    "print(\"python array multiplication =\",np*2)"
   ]
  },
  {
   "cell_type": "code",
   "execution_count": 5,
   "id": "c1598a9c",
   "metadata": {},
   "outputs": [
    {
     "name": "stdout",
     "output_type": "stream",
     "text": [
      "Python List Time: 0.015559673309326172\n",
      "NumPy Array Time: 0.0011491775512695312\n"
     ]
    }
   ],
   "source": [
    "import time\n",
    "import numpy as np  # ✅ Import numpy\n",
    "\n",
    "# Python list operation\n",
    "start = time.time()\n",
    "py = [i * 2 for i in range(100000)]\n",
    "print(\"Python List Time:\", time.time() - start)\n",
    "\n",
    "# NumPy array operation\n",
    "start = time.time()\n",
    "npy = np.arange(100000)  # ✅ Use large array for fair comparison\n",
    "npym = npy * 2           # ✅ Element-wise multiplication\n",
    "print(\"NumPy Array Time:\", time.time() - start)\n"
   ]
  },
  {
   "cell_type": "markdown",
   "id": "e3489681",
   "metadata": {},
   "source": [
    "### Making array from the scratch \n"
   ]
  },
  {
   "cell_type": "code",
   "execution_count": 6,
   "id": "05497ec7",
   "metadata": {},
   "outputs": [],
   "source": [
    "import numpy as np \n"
   ]
  },
  {
   "cell_type": "code",
   "execution_count": 8,
   "id": "ef810eb1",
   "metadata": {},
   "outputs": [
    {
     "name": "stdout",
     "output_type": "stream",
     "text": [
      "[[0. 0. 0. 0.]\n",
      " [0. 0. 0. 0.]\n",
      " [0. 0. 0. 0.]]\n"
     ]
    }
   ],
   "source": [
    "zeros=np.zeros((3,4))\n",
    "print(zeros)"
   ]
  },
  {
   "cell_type": "code",
   "execution_count": 9,
   "id": "01bdd685",
   "metadata": {},
   "outputs": [
    {
     "name": "stdout",
     "output_type": "stream",
     "text": [
      "[[1. 1. 1. 1.]\n",
      " [1. 1. 1. 1.]\n",
      " [1. 1. 1. 1.]]\n"
     ]
    }
   ],
   "source": [
    "ones=np.ones((3,4))\n",
    "print(ones)"
   ]
  },
  {
   "cell_type": "code",
   "execution_count": 10,
   "id": "6e9a6a09",
   "metadata": {},
   "outputs": [
    {
     "name": "stdout",
     "output_type": "stream",
     "text": [
      "[[7 7 7]\n",
      " [7 7 7]]\n"
     ]
    }
   ],
   "source": [
    "full=np.full((2,3),7)\n",
    "print(full)"
   ]
  },
  {
   "cell_type": "code",
   "execution_count": 11,
   "id": "b93bde8d",
   "metadata": {},
   "outputs": [
    {
     "name": "stdout",
     "output_type": "stream",
     "text": [
      "[[0.06482997 0.97161875 0.3255573 ]\n",
      " [0.95691333 0.71569959 0.85201619]]\n",
      "[0 2 4 6 8]\n"
     ]
    }
   ],
   "source": [
    "random=np.random.random((2,3))\n",
    "print(random)\n",
    "sequence=np.arange(0,10,2)\n",
    "print(sequence )"
   ]
  },
  {
   "cell_type": "markdown",
   "id": "3ed30665",
   "metadata": {},
   "source": [
    "### Vector , matrix , tensor "
   ]
  },
  {
   "cell_type": "code",
   "execution_count": 13,
   "id": "472dbfb0",
   "metadata": {},
   "outputs": [
    {
     "name": "stdout",
     "output_type": "stream",
     "text": [
      "[1 2 3 4 5]\n",
      "[[1 2 3 4 5]\n",
      " [1 2 3 4 5]]\n"
     ]
    }
   ],
   "source": [
    "vector=np.array([1,2,3,4,5])\n",
    "print(vector)\n",
    "matrix=np.array([[1,2,3,4,5],[1,2,3,4,5]])\n",
    "print(matrix)"
   ]
  },
  {
   "cell_type": "code",
   "execution_count": null,
   "id": "a6682819",
   "metadata": {},
   "outputs": [],
   "source": []
  }
 ],
 "metadata": {
  "kernelspec": {
   "display_name": "venv",
   "language": "python",
   "name": "python3"
  },
  "language_info": {
   "codemirror_mode": {
    "name": "ipython",
    "version": 3
   },
   "file_extension": ".py",
   "mimetype": "text/x-python",
   "name": "python",
   "nbconvert_exporter": "python",
   "pygments_lexer": "ipython3",
   "version": "3.13.1"
  }
 },
 "nbformat": 4,
 "nbformat_minor": 5
}
