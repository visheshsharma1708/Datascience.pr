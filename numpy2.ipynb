{
 "cells": [
  {
   "cell_type": "markdown",
   "id": "53f85987",
   "metadata": {},
   "source": [
    "### Top most widely used Numpy commands"
   ]
  },
  {
   "cell_type": "code",
   "execution_count": 1,
   "id": "fa2c9ba9",
   "metadata": {},
   "outputs": [
    {
     "name": "stdout",
     "output_type": "stream",
     "text": [
      "Dataset:\n",
      " [[10 20 30 40 50]\n",
      " [15 25 35 45 55]\n",
      " [20 30 40 50 60]\n",
      " [25 35 45 55 65]\n",
      " [30 40 50 60 70]]\n"
     ]
    }
   ],
   "source": [
    "import numpy as np\n",
    "\n",
    "# Creating a 5x5 array\n",
    "data = np.array([\n",
    "    [10, 20, 30, 40, 50],\n",
    "    [15, 25, 35, 45, 55],\n",
    "    [20, 30, 40, 50, 60],\n",
    "    [25, 35, 45, 55, 65],\n",
    "    [30, 40, 50, 60, 70]\n",
    "])\n",
    "\n",
    "print(\"Dataset:\\n\", data)\n"
   ]
  },
  {
   "cell_type": "code",
   "execution_count": 2,
   "id": "489839fb",
   "metadata": {},
   "outputs": [
    {
     "name": "stdout",
     "output_type": "stream",
     "text": [
      "Shape of array: (5, 5)\n"
     ]
    }
   ],
   "source": [
    "print(\"Shape of array:\", data.shape)\n",
    "# gives shaoe of the array "
   ]
  },
  {
   "cell_type": "code",
   "execution_count": 3,
   "id": "38369792",
   "metadata": {},
   "outputs": [
    {
     "name": "stdout",
     "output_type": "stream",
     "text": [
      "Total number of elements: 25\n"
     ]
    }
   ],
   "source": [
    "print(\"Total number of elements:\", data.size)\n",
    "# gives total number of elements "
   ]
  },
  {
   "cell_type": "code",
   "execution_count": 4,
   "id": "e255e226",
   "metadata": {},
   "outputs": [
    {
     "name": "stdout",
     "output_type": "stream",
     "text": [
      "Number of dimensions: 2\n"
     ]
    }
   ],
   "source": [
    "print(\"Number of dimensions:\", data.ndim)\n",
    "# gives dimensions "
   ]
  },
  {
   "cell_type": "code",
   "execution_count": 5,
   "id": "1405a439",
   "metadata": {},
   "outputs": [
    {
     "name": "stdout",
     "output_type": "stream",
     "text": [
      "Data type of array elements: int64\n"
     ]
    }
   ],
   "source": [
    "print(\"Data type of array elements:\", data.dtype)\n",
    "#gives datatype of the elements "
   ]
  },
  {
   "cell_type": "code",
   "execution_count": null,
   "id": "bddd0bdc",
   "metadata": {},
   "outputs": [
    {
     "name": "stdout",
     "output_type": "stream",
     "text": [
      "Element at 0th row, 0th column: 10\n"
     ]
    }
   ],
   "source": [
    "print(\"Element at 0th row, 0th column:\", data[0, 0])\n",
    "# accessing single element "
   ]
  },
  {
   "cell_type": "code",
   "execution_count": null,
   "id": "db95c7d2",
   "metadata": {},
   "outputs": [
    {
     "name": "stdout",
     "output_type": "stream",
     "text": [
      "First column:\n",
      " [10 15 20 25 30]\n"
     ]
    }
   ],
   "source": [
    "print(\"First column:\\n\", data[:, 0])\n",
    "# access entire column"
   ]
  },
  {
   "cell_type": "code",
   "execution_count": 8,
   "id": "9e0136ac",
   "metadata": {},
   "outputs": [
    {
     "name": "stdout",
     "output_type": "stream",
     "text": [
      "First row:\n",
      " [10 20 30 40 50]\n"
     ]
    }
   ],
   "source": [
    "print(\"First row:\\n\", data[0, :])\n",
    "# access entire row "
   ]
  },
  {
   "cell_type": "code",
   "execution_count": null,
   "id": "8d6eb6b6",
   "metadata": {},
   "outputs": [
    {
     "name": "stdout",
     "output_type": "stream",
     "text": [
      "Mean of all elements: 40.0\n"
     ]
    }
   ],
   "source": [
    "print(\"Mean of all elements:\", np.mean(data))\n",
    "#gives mean of the elements print(\"Standard Deviation:\", np.std(data))\n"
   ]
  },
  {
   "cell_type": "code",
   "execution_count": 10,
   "id": "40411972",
   "metadata": {},
   "outputs": [
    {
     "name": "stdout",
     "output_type": "stream",
     "text": [
      "Median of all elements: 40.0\n"
     ]
    }
   ],
   "source": [
    "print(\"Median of all elements:\", np.median(data))\n",
    "# gives median value "
   ]
  },
  {
   "cell_type": "code",
   "execution_count": 11,
   "id": "2929da3a",
   "metadata": {},
   "outputs": [
    {
     "name": "stdout",
     "output_type": "stream",
     "text": [
      "Standard Deviation: 15.811388300841896\n"
     ]
    }
   ],
   "source": [
    "print(\"Standard Deviation:\", np.std(data))\n",
    "#gives standar value "
   ]
  },
  {
   "cell_type": "code",
   "execution_count": 12,
   "id": "fe38165d",
   "metadata": {},
   "outputs": [
    {
     "name": "stdout",
     "output_type": "stream",
     "text": [
      "Sum of all elements: 1000\n"
     ]
    }
   ],
   "source": [
    "print(\"Sum of all elements:\", np.sum(data))\n",
    "# gives sum of all elements "
   ]
  },
  {
   "cell_type": "code",
   "execution_count": 13,
   "id": "6cb4f927",
   "metadata": {},
   "outputs": [
    {
     "name": "stdout",
     "output_type": "stream",
     "text": [
      "Minimum value: 10\n"
     ]
    }
   ],
   "source": [
    "print(\"Minimum value:\", np.min(data))\n",
    "#gives minimum value "
   ]
  },
  {
   "cell_type": "code",
   "execution_count": 14,
   "id": "8feb4484",
   "metadata": {},
   "outputs": [
    {
     "name": "stdout",
     "output_type": "stream",
     "text": [
      "Maximum value: 70\n"
     ]
    }
   ],
   "source": [
    "print(\"Maximum value:\", np.max(data))\n",
    "#gives max value \n"
   ]
  },
  {
   "cell_type": "code",
   "execution_count": 15,
   "id": "b0279ff4",
   "metadata": {},
   "outputs": [
    {
     "name": "stdout",
     "output_type": "stream",
     "text": [
      "Index of minimum value: 0\n"
     ]
    }
   ],
   "source": [
    "print(\"Index of minimum value:\", np.argmin(data))\n",
    "# index of minimum value flattend"
   ]
  },
  {
   "cell_type": "code",
   "execution_count": 16,
   "id": "c69410e6",
   "metadata": {},
   "outputs": [
    {
     "name": "stdout",
     "output_type": "stream",
     "text": [
      "Index of maximum value: 24\n"
     ]
    }
   ],
   "source": [
    "print(\"Index of maximum value:\", np.argmax(data))\n",
    "# inex of maximum value "
   ]
  },
  {
   "cell_type": "code",
   "execution_count": 17,
   "id": "3b0711c5",
   "metadata": {},
   "outputs": [
    {
     "name": "stdout",
     "output_type": "stream",
     "text": [
      "Sorted rows:\n",
      " [[10 20 30 40 50]\n",
      " [15 25 35 45 55]\n",
      " [20 30 40 50 60]\n",
      " [25 35 45 55 65]\n",
      " [30 40 50 60 70]]\n"
     ]
    }
   ],
   "source": [
    "print(\"Sorted rows:\\n\", np.sort(data, axis=1))\n",
    "# sort each row "
   ]
  },
  {
   "cell_type": "code",
   "execution_count": 18,
   "id": "83266507",
   "metadata": {},
   "outputs": [
    {
     "name": "stdout",
     "output_type": "stream",
     "text": [
      "Transposed array:\n",
      " [[10 15 20 25 30]\n",
      " [20 25 30 35 40]\n",
      " [30 35 40 45 50]\n",
      " [40 45 50 55 60]\n",
      " [50 55 60 65 70]]\n"
     ]
    }
   ],
   "source": [
    "print(\"Transposed array:\\n\", data.T)\n",
    "# transpose the array "
   ]
  },
  {
   "cell_type": "code",
   "execution_count": 19,
   "id": "51997c0e",
   "metadata": {},
   "outputs": [
    {
     "name": "stdout",
     "output_type": "stream",
     "text": [
      "Unique values:\n",
      " [10 15 20 25 30 35 40 45 50 55 60 65 70]\n"
     ]
    }
   ],
   "source": [
    "print(\"Unique values:\\n\", np.unique(data))\n",
    "# gives uniques value "
   ]
  },
  {
   "cell_type": "code",
   "execution_count": 20,
   "id": "b5acc3c8",
   "metadata": {},
   "outputs": [
    {
     "name": "stdout",
     "output_type": "stream",
     "text": [
      "Indices where value > 40:\n",
      " (array([0, 1, 1, 2, 2, 3, 3, 3, 4, 4, 4]), array([4, 3, 4, 3, 4, 2, 3, 4, 2, 3, 4]))\n"
     ]
    }
   ],
   "source": [
    "result = np.where(data > 40)\n",
    "print(\"Indices where value > 40:\\n\", result)\n",
    "# where method "
   ]
  },
  {
   "cell_type": "code",
   "execution_count": 21,
   "id": "c2dbcfda",
   "metadata": {},
   "outputs": [
    {
     "name": "stdout",
     "output_type": "stream",
     "text": [
      "Clipped array (min=20, max=50): [[20 20 30 40 50]\n",
      " [20 25 35 45 50]\n",
      " [20 30 40 50 50]\n",
      " [25 35 45 50 50]\n",
      " [30 40 50 50 50]]\n"
     ]
    }
   ],
   "source": [
    "print(\"Clipped array (min=20, max=50):\", np.clip(data, 20, 50))\n",
    "# clip value "
   ]
  },
  {
   "cell_type": "code",
   "execution_count": null,
   "id": "a3080430",
   "metadata": {},
   "outputs": [],
   "source": []
  }
 ],
 "metadata": {
  "kernelspec": {
   "display_name": "venv",
   "language": "python",
   "name": "python3"
  },
  "language_info": {
   "codemirror_mode": {
    "name": "ipython",
    "version": 3
   },
   "file_extension": ".py",
   "mimetype": "text/x-python",
   "name": "python",
   "nbconvert_exporter": "python",
   "pygments_lexer": "ipython3",
   "version": "3.13.1"
  }
 },
 "nbformat": 4,
 "nbformat_minor": 5
}
