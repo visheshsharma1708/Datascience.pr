{
 "cells": [
  {
   "cell_type": "markdown",
   "id": "19310ba0",
   "metadata": {},
   "source": [
    "# #creating csv file \n",
    "## by the help of pandas \n",
    "### using python library\n"
   ]
  },
  {
   "cell_type": "code",
   "execution_count": 1,
   "id": "db81f5f7",
   "metadata": {},
   "outputs": [
    {
     "name": "stdout",
     "output_type": "stream",
     "text": [
      "   a  b   c\n",
      "0  1  3   6\n",
      "1  2  4   7\n",
      "2  3  5   8\n",
      "3  4  6   9\n",
      "4  5  7  10\n"
     ]
    }
   ],
   "source": [
    "import pandas as pd \n",
    "dis={\"a\":[1,2,3,4,5],\"b\":[3,4,5,6,7],\"c\":[6,7,8,9,10]}\n",
    "d=pd.DataFrame(dis)\n",
    "print(d)\n",
    "d.to_csv(\"text_new.csv\",index=False,header=[1,2,3])"
   ]
  },
  {
   "cell_type": "markdown",
   "id": "ae9eb6c1",
   "metadata": {},
   "source": [
    "#  Reading data from the csv file\n",
    "##  by the help of pandas  "
   ]
  },
  {
   "cell_type": "code",
   "execution_count": 3,
   "id": "823e49a7",
   "metadata": {},
   "outputs": [
    {
     "data": {
      "text/html": [
       "<div>\n",
       "<style scoped>\n",
       "    .dataframe tbody tr th:only-of-type {\n",
       "        vertical-align: middle;\n",
       "    }\n",
       "\n",
       "    .dataframe tbody tr th {\n",
       "        vertical-align: top;\n",
       "    }\n",
       "\n",
       "    .dataframe thead th {\n",
       "        text-align: right;\n",
       "    }\n",
       "</style>\n",
       "<table border=\"1\" class=\"dataframe\">\n",
       "  <thead>\n",
       "    <tr style=\"text-align: right;\">\n",
       "      <th></th>\n",
       "      <th>1</th>\n",
       "      <th>2</th>\n",
       "      <th>3</th>\n",
       "    </tr>\n",
       "  </thead>\n",
       "  <tbody>\n",
       "    <tr>\n",
       "      <th>0</th>\n",
       "      <td>1</td>\n",
       "      <td>3</td>\n",
       "      <td>6</td>\n",
       "    </tr>\n",
       "    <tr>\n",
       "      <th>1</th>\n",
       "      <td>2</td>\n",
       "      <td>4</td>\n",
       "      <td>7</td>\n",
       "    </tr>\n",
       "    <tr>\n",
       "      <th>2</th>\n",
       "      <td>3</td>\n",
       "      <td>5</td>\n",
       "      <td>8</td>\n",
       "    </tr>\n",
       "    <tr>\n",
       "      <th>3</th>\n",
       "      <td>4</td>\n",
       "      <td>6</td>\n",
       "      <td>9</td>\n",
       "    </tr>\n",
       "    <tr>\n",
       "      <th>4</th>\n",
       "      <td>5</td>\n",
       "      <td>7</td>\n",
       "      <td>10</td>\n",
       "    </tr>\n",
       "  </tbody>\n",
       "</table>\n",
       "</div>"
      ],
      "text/plain": [
       "   1  2   3\n",
       "0  1  3   6\n",
       "1  2  4   7\n",
       "2  3  5   8\n",
       "3  4  6   9\n",
       "4  5  7  10"
      ]
     },
     "execution_count": 3,
     "metadata": {},
     "output_type": "execute_result"
    }
   ],
   "source": [
    "import pandas as pd \n",
    "csv_1=pd.read_csv(\"C:\\\\Users\\\\svish\\\\OneDrive\\\\Desktop\\\\jupyter-notebook\\\\text_new.csv\")\n",
    "csv_1"
   ]
  },
  {
   "cell_type": "code",
   "execution_count": null,
   "id": "d70ffeb9",
   "metadata": {},
   "outputs": [],
   "source": []
  }
 ],
 "metadata": {
  "kernelspec": {
   "display_name": "venv",
   "language": "python",
   "name": "python3"
  },
  "language_info": {
   "codemirror_mode": {
    "name": "ipython",
    "version": 3
   },
   "file_extension": ".py",
   "mimetype": "text/x-python",
   "name": "python",
   "nbconvert_exporter": "python",
   "pygments_lexer": "ipython3",
   "version": "3.13.1"
  }
 },
 "nbformat": 4,
 "nbformat_minor": 5
}
