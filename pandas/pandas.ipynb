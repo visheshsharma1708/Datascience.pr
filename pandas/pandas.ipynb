{
 "cells": [
  {
   "cell_type": "markdown",
   "id": "b6a790f7",
   "metadata": {},
   "source": [
    "#Series"
   ]
  },
  {
   "cell_type": "code",
   "execution_count": null,
   "id": "44900e56",
   "metadata": {},
   "outputs": [],
   "source": [
    "import pandas as pd"
   ]
  },
  {
   "cell_type": "code",
   "execution_count": 6,
   "id": "950e2303",
   "metadata": {},
   "outputs": [
    {
     "name": "stdout",
     "output_type": "stream",
     "text": [
      "a    1.0\n",
      "b    2.0\n",
      "c    3.0\n",
      "d    4.0\n",
      "e    5.0\n",
      "Name: python, dtype: float64\n",
      "<class 'pandas.core.series.Series'>\n",
      "c    3.0\n",
      "d    4.0\n",
      "e    5.0\n",
      "Name: python, dtype: float64\n"
     ]
    }
   ],
   "source": [
    "x=[1,2,3,4,5]\n",
    "var =pd.Series(x,index=['a','b','c','d','e'],dtype=\"float\",name=\"python\")\n",
    "print(var)\n",
    "print(type(var))\n",
    "print(var[2:5])"
   ]
  },
  {
   "cell_type": "code",
   "execution_count": 8,
   "id": "b1723b8e",
   "metadata": {},
   "outputs": [
    {
     "name": "stdout",
     "output_type": "stream",
     "text": [
      "Name    [python, c++, java, c]\n",
      "por           [12, 13, 14, 15]\n",
      "rank              [1, 2, 3, 4]\n",
      "dtype: object\n"
     ]
    }
   ],
   "source": [
    "dic={\"Name\":['python','c++','java','c'],\"por\":[12,13,14,15],\"rank\":[1,2,3,4]}\n",
    "var1=pd.Series(dic)\n",
    "print(var1)"
   ]
  },
  {
   "cell_type": "code",
   "execution_count": 9,
   "id": "3951b6c0",
   "metadata": {},
   "outputs": [
    {
     "name": "stdout",
     "output_type": "stream",
     "text": [
      "0    12\n",
      "dtype: int64\n"
     ]
    }
   ],
   "source": [
    "s=pd.Series(12)\n",
    "print(s)"
   ]
  },
  {
   "cell_type": "code",
   "execution_count": null,
   "id": "f5b0beb2",
   "metadata": {},
   "outputs": [],
   "source": []
  },
  {
   "cell_type": "code",
   "execution_count": null,
   "id": "d6a3deb5",
   "metadata": {},
   "outputs": [],
   "source": []
  }
 ],
 "metadata": {
  "kernelspec": {
   "display_name": "venv",
   "language": "python",
   "name": "python3"
  },
  "language_info": {
   "codemirror_mode": {
    "name": "ipython",
    "version": 3
   },
   "file_extension": ".py",
   "mimetype": "text/x-python",
   "name": "python",
   "nbconvert_exporter": "python",
   "pygments_lexer": "ipython3",
   "version": "3.13.1"
  }
 },
 "nbformat": 4,
 "nbformat_minor": 5
}
