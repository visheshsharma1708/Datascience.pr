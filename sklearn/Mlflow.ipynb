{
 "cells": [
  {
   "cell_type": "markdown",
   "id": "319ac420",
   "metadata": {},
   "source": [
    "## ML flow "
   ]
  },
  {
   "cell_type": "code",
   "execution_count": 1,
   "id": "b75db51a",
   "metadata": {},
   "outputs": [
    {
     "name": "stdout",
     "output_type": "stream",
     "text": [
      "CSV file created successfully!\n"
     ]
    }
   ],
   "source": [
    "import pandas as pd\n",
    "\n",
    "# Sample data\n",
    "data = {\n",
    "    'Area': [1000, 1500, 2000, 2500, 3000],\n",
    "    'Bedrooms': [2, 3, 3, 4, 4],\n",
    "    'Price': [200000, 300000, 400000, 500000, 600000]\n",
    "}\n",
    "\n",
    "# Create DataFrame\n",
    "df = pd.DataFrame(data)\n",
    "\n",
    "# Save as CSV\n",
    "df.to_csv(\"house_data.csv\", index=False)\n",
    "print(\"CSV file created successfully!\")\n"
   ]
  },
  {
   "cell_type": "code",
   "execution_count": 5,
   "id": "be1641c0",
   "metadata": {},
   "outputs": [
    {
     "name": "stderr",
     "output_type": "stream",
     "text": [
      "2025/07/14 12:19:03 INFO mlflow.tracking.fluent: Experiment with name 'HousePriceExperiment' does not exist. Creating a new experiment.\n",
      "2025/07/14 12:19:03 WARNING mlflow.models.model: `artifact_path` is deprecated. Please use `name` instead.\n",
      "2025/07/14 12:19:08 WARNING mlflow.models.model: Model logged without a signature and input example. Please set `input_example` parameter when logging the model to auto infer the model signature.\n"
     ]
    },
    {
     "name": "stdout",
     "output_type": "stream",
     "text": [
      "Model trained, logged, and registered!\n"
     ]
    },
    {
     "name": "stderr",
     "output_type": "stream",
     "text": [
      "Registered model 'HousePriceModel' already exists. Creating a new version of this model...\n",
      "Created version '4' of model 'HousePriceModel'.\n"
     ]
    }
   ],
   "source": [
    "import pandas as pd\n",
    "from sklearn.linear_model import LinearRegression\n",
    "from sklearn.model_selection import train_test_split\n",
    "from sklearn.metrics import mean_squared_error\n",
    "import mlflow\n",
    "import mlflow.sklearn\n",
    "\n",
    "# Load data\n",
    "df = pd.read_csv(\"house_data.csv\")\n",
    "X = df[['Area', 'Bedrooms']]\n",
    "y = df['Price']\n",
    "\n",
    "# Split data\n",
    "X_train, X_test, y_train, y_test = train_test_split(X, y, test_size=0.2, random_state=42)\n",
    "\n",
    "# Set MLflow experiment (will create one if not exists)\n",
    "mlflow.set_experiment(\"HousePriceExperiment\")\n",
    "\n",
    "with mlflow.start_run():\n",
    "\n",
    "    # Train model\n",
    "    model = LinearRegression()\n",
    "    model.fit(X_train, y_train)\n",
    "\n",
    "    # Predict and evaluate\n",
    "    y_pred = model.predict(X_test)\n",
    "    mse = mean_squared_error(y_test, y_pred)\n",
    "\n",
    "    # Log parameters and metric\n",
    "    mlflow.log_param(\"model_type\", \"LinearRegression\")\n",
    "    mlflow.log_param(\"features\", [\"Area\", \"Bedrooms\"])\n",
    "    mlflow.log_metric(\"mse\", mse)\n",
    "\n",
    "    # ✅ Log and Register model\n",
    "    mlflow.sklearn.log_model(\n",
    "        sk_model=model,\n",
    "        artifact_path=\"model\",\n",
    "        registered_model_name=\"HousePriceModel\"\n",
    "    )\n",
    "\n",
    "    print(\"Model trained, logged, and registered!\")\n"
   ]
  },
  {
   "cell_type": "code",
   "execution_count": null,
   "id": "ac3007ca",
   "metadata": {},
   "outputs": [],
   "source": []
  }
 ],
 "metadata": {
  "kernelspec": {
   "display_name": "venv",
   "language": "python",
   "name": "python3"
  },
  "language_info": {
   "codemirror_mode": {
    "name": "ipython",
    "version": 3
   },
   "file_extension": ".py",
   "mimetype": "text/x-python",
   "name": "python",
   "nbconvert_exporter": "python",
   "pygments_lexer": "ipython3",
   "version": "3.13.1"
  }
 },
 "nbformat": 4,
 "nbformat_minor": 5
}
