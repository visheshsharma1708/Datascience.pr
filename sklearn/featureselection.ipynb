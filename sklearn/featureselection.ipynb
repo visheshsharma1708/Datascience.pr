{
 "cells": [
  {
   "cell_type": "markdown",
   "id": "6707f76d",
   "metadata": {},
   "source": [
    "## Feature selection techniques"
   ]
  },
  {
   "cell_type": "code",
   "execution_count": 2,
   "id": "0892fe6e",
   "metadata": {},
   "outputs": [
    {
     "name": "stdout",
     "output_type": "stream",
     "text": [
      "Correlation with target (Survived):\n",
      "Survived    1.000000\n",
      "Pclass     -0.356462\n",
      "Sex        -0.536762\n",
      "Age        -0.082446\n",
      "Fare        0.266100\n",
      "Embarked   -0.181979\n",
      "Name: Survived, dtype: float64\n",
      "\n",
      "Features with correlation > 0.1:\n",
      "['Pclass', 'Sex', 'Fare', 'Embarked']\n",
      "\n",
      "Chi-Square scores:\n",
      "Pclass: 28.24\n",
      "Sex: 74.62\n",
      "Age: 34.26\n",
      "Fare: 4137.44\n",
      "Embarked: 8.96\n",
      "\n",
      "ANOVA F-scores:\n",
      "Pclass: 103.35\n",
      "Sex: 287.35\n",
      "Age: 4.86\n",
      "Fare: 54.11\n",
      "Embarked: 24.32\n"
     ]
    }
   ],
   "source": [
    "import pandas as pd\n",
    "from sklearn.preprocessing import LabelEncoder\n",
    "from sklearn.feature_selection import SelectKBest, chi2, f_classif\n",
    "\n",
    "# Load the dataset\n",
    "df = pd.read_csv(\"C:\\\\Users\\\\svish\\\\OneDrive\\\\Desktop\\\\titanic-dataset\\\\train.csv\")\n",
    "\n",
    "df = df[['Survived', 'Pclass', 'Sex', 'Age', 'Fare', 'Embarked']]\n",
    "df.dropna(inplace=True)\n",
    "\n",
    "#  Encode categorical variables\n",
    "df['Sex'] = LabelEncoder().fit_transform(df['Sex'])           \n",
    "df['Embarked'] = LabelEncoder().fit_transform(df['Embarked']) \n",
    "\n",
    "#  features (X) and target (y)\n",
    "X = df.drop('Survived', axis=1)\n",
    "y = df['Survived']\n",
    "\n",
    "# Correlation - \n",
    "print(\"Correlation with target (Survived):\")\n",
    "print(df.corr()['Survived'])\n",
    "\n",
    "#  Thresholding - \n",
    "correlation = df.corr()['Survived']\n",
    "selected_features = correlation[correlation.abs() > 0.1].index.tolist()\n",
    "if 'Survived' in selected_features:\n",
    "    selected_features.remove('Survived')\n",
    "print(\"\\nFeatures with correlation > 0.1:\")\n",
    "print(selected_features)\n",
    "\n",
    "# Chi-Square Test\n",
    "X_chi = X.copy()\n",
    "X_chi['Age'] = X_chi['Age'].astype(int)\n",
    "X_chi['Fare'] = X_chi['Fare'].astype(int)\n",
    "\n",
    "chi_selector = SelectKBest(score_func=chi2, k='all')\n",
    "chi_selector.fit(X_chi, y)\n",
    "\n",
    "print(\"\\nChi-Square scores:\")\n",
    "for feature, score in zip(X.columns, chi_selector.scores_):\n",
    "    print(f\"{feature}: {score:.2f}\")\n",
    "\n",
    "# ANOVA (Analysis of Variance) - \n",
    "anova_selector = SelectKBest(score_func=f_classif, k='all')\n",
    "anova_selector.fit(X, y)\n",
    "\n",
    "print(\"\\nANOVA F-scores:\")\n",
    "for feature, score in zip(X.columns, anova_selector.scores_):\n",
    "    print(f\"{feature}: {score:.2f}\")\n"
   ]
  }
 ],
 "metadata": {
  "kernelspec": {
   "display_name": "venv",
   "language": "python",
   "name": "python3"
  },
  "language_info": {
   "codemirror_mode": {
    "name": "ipython",
    "version": 3
   },
   "file_extension": ".py",
   "mimetype": "text/x-python",
   "name": "python",
   "nbconvert_exporter": "python",
   "pygments_lexer": "ipython3",
   "version": "3.13.1"
  }
 },
 "nbformat": 4,
 "nbformat_minor": 5
}
