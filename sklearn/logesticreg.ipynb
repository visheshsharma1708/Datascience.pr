{
 "cells": [
  {
   "cell_type": "markdown",
   "id": "a9cb26e3",
   "metadata": {},
   "source": [
    "## logestic regression \n",
    "   age vs insurance data "
   ]
  },
  {
   "cell_type": "code",
   "execution_count": 1,
   "id": "a48e7976",
   "metadata": {},
   "outputs": [
    {
     "name": "stdout",
     "output_type": "stream",
     "text": [
      "CSV file created: insurance_data.csv\n",
      "   Age  Insurance\n",
      "0   62          1\n",
      "1   65          1\n",
      "2   18          0\n",
      "3   21          0\n",
      "4   21          0\n"
     ]
    },
    {
     "data": {
      "image/png": "[encoded data removed]",
      "text/plain": [
       "<Figure size 640x480 with 1 Axes>"
      ]
     },
     "metadata": {},
     "output_type": "display_data"
    },
    {
     "name": "stdout",
     "output_type": "stream",
     "text": [
      "Model Accuracy: 0.85\n",
      "\n",
      "Predictions for new ages:\n",
      "Age 22: Prediction = 0 (Insurance Probability = 0.01)\n",
      "Age 35: Prediction = 0 (Insurance Probability = 0.25)\n",
      "Age 45: Prediction = 1 (Insurance Probability = 0.81)\n",
      "Age 60: Prediction = 1 (Insurance Probability = 0.99)\n"
     ]
    }
   ],
   "source": [
    "# Step 1: Import libraries\n",
    "import pandas as pd\n",
    "import numpy as np\n",
    "import matplotlib.pyplot as plt\n",
    "from sklearn.linear_model import LogisticRegression\n",
    "from sklearn.model_selection import train_test_split\n",
    "from sklearn.metrics import accuracy_score\n",
    "\n",
    "# Step 2: Create data\n",
    "np.random.seed(0)\n",
    "\n",
    "ages = np.random.randint(18, 70, size=100)\n",
    "insurance = [1 if age > np.random.randint(30, 50) else 0 for age in ages]\n",
    "\n",
    "df = pd.DataFrame({\n",
    "    'Age': ages,\n",
    "    'Insurance': insurance\n",
    "})\n",
    "\n",
    "# Step 3: Save to CSV\n",
    "df.to_csv(\"insurance_data.csv\", index=False)\n",
    "print(\"CSV file created: insurance_data.csv\")\n",
    "\n",
    "# Step 4: Load the data from CSV\n",
    "data = pd.read_csv(\"insurance_data.csv\")\n",
    "print(data.head())\n",
    "\n",
    "# Step 5: Scatter plot\n",
    "plt.scatter(data['Age'], data['Insurance'], color='green')\n",
    "plt.xlabel(\"Age\")\n",
    "plt.ylabel(\"Insurance (0=No, 1=Yes)\")\n",
    "plt.title(\"Age vs Insurance\")\n",
    "plt.grid(True)\n",
    "plt.show()\n",
    "\n",
    "# Step 6: Prepare data for model\n",
    "X = data[['Age']]  # Input\n",
    "y = data['Insurance']  # Output\n",
    "\n",
    "# Step 7: Train-test split\n",
    "X_train, X_test, y_train, y_test = train_test_split(X, y, test_size=0.2, random_state=1)\n",
    "\n",
    "# Step 8: Train Logistic Regression model\n",
    "model = LogisticRegression()\n",
    "model.fit(X_train, y_train)\n",
    "\n",
    "# Step 9: Predict and check accuracy\n",
    "y_pred = model.predict(X_test)\n",
    "accuracy = accuracy_score(y_test, y_pred)\n",
    "print(\"Model Accuracy:\", accuracy)\n",
    "\n",
    "# Step 10: Predict for new ages\n",
    "new_ages = pd.DataFrame({'Age': [22, 35, 45, 60]})\n",
    "predictions = model.predict(new_ages)\n",
    "probabilities = model.predict_proba(new_ages)\n",
    "\n",
    "print(\"\\nPredictions for new ages:\")\n",
    "for age, pred, prob in zip(new_ages['Age'], predictions, probabilities):\n",
    "    print(f\"Age {age}: Prediction = {pred} (Insurance Probability = {prob[1]:.2f})\")\n"
   ]
  }
 ],
 "metadata": {
  "kernelspec": {
   "display_name": "venv",
   "language": "python",
   "name": "python3"
  },
  "language_info": {
   "codemirror_mode": {
    "name": "ipython",
    "version": 3
   },
   "file_extension": ".py",
   "mimetype": "text/x-python",
   "name": "python",
   "nbconvert_exporter": "python",
   "pygments_lexer": "ipython3",
   "version": "3.13.1"
  }
 },
 "nbformat": 4,
 "nbformat_minor": 5
}
