{
 "cells": [
  {
   "cell_type": "markdown",
   "id": "1a2de6e4",
   "metadata": {},
   "source": [
    "### Mostly used commands \n",
    "1.)train_test_split()"
   ]
  },
  {
   "cell_type": "code",
   "execution_count": null,
   "id": "abba819c",
   "metadata": {},
   "outputs": [
    {
     "name": "stdout",
     "output_type": "stream",
     "text": [
      "Training Set Size: (571, 2)\n",
      "Test Set Size: (143, 2)\n"
     ]
    }
   ],
   "source": [
    "import pandas as pd\n",
    "import seaborn as sns\n",
    "from sklearn.model_selection import train_test_split\n",
    "\n",
    "df = pd.read_csv('C:\\\\Users\\\\svish\\\\OneDrive\\\\Desktop\\\\titanic-dataset\\\\train.csv')\n",
    "\n",
    "\n",
    "df = df[['Age', 'Fare', 'Survived']].dropna()\n",
    "\n",
    "\n",
    "X = df[['Age', 'Fare']]\n",
    "y = df['Survived']\n",
    "\n",
    "\n",
    "X_train, X_test, y_train, y_test = train_test_split(\n",
    "    X, y, test_size=0.2, random_state=42\n",
    ")\n",
    "\n",
    "print(\"Training Set Size:\", X_train.shape)\n",
    "print(\"Test Set Size:\", X_test.shape)\n"
   ]
  },
  {
   "cell_type": "code",
   "execution_count": 5,
   "id": "aa87ab8c",
   "metadata": {},
   "outputs": [
    {
     "name": "stdout",
     "output_type": "stream",
     "text": [
      "Predicted fares: [39.89796983 26.15112103 35.31568689 33.55327038 40.25045313]\n",
      "Actual fares: [13.   18.75 26.   69.3   6.45]\n"
     ]
    }
   ],
   "source": [
    "## linear regression \n",
    "import pandas as pd\n",
    "from sklearn.linear_model import LinearRegression\n",
    "from sklearn.model_selection import train_test_split\n",
    "\n",
    "# Load dataset\n",
    "df = pd.read_csv(\"C:\\\\Users\\\\svish\\\\OneDrive\\\\Desktop\\\\titanic-dataset\\\\train.csv\")\n",
    "\n",
    "# Select features and target (drop NaN)\n",
    "df = df[['Age', 'Fare']].dropna()\n",
    "\n",
    "# X = feature(s), y = target\n",
    "X = df[['Age']]      # Independent variable\n",
    "y = df['Fare']       # Dependent variable\n",
    "\n",
    "# Split into train/test\n",
    "X_train, X_test, y_train, y_test = train_test_split(X, y, random_state=42)\n",
    "\n",
    "# Create and train the model\n",
    "model = LinearRegression()\n",
    "model.fit(X_train, y_train)\n",
    "\n",
    "# Predict fare from test set\n",
    "predictions = model.predict(X_test)\n",
    "\n",
    "# Print sample results\n",
    "print(\"Predicted fares:\", predictions[:5])\n",
    "print(\"Actual fares:\", y_test.values[:5])\n",
    "\n"
   ]
  }
 ],
 "metadata": {
  "kernelspec": {
   "display_name": "venv",
   "language": "python",
   "name": "python3"
  },
  "language_info": {
   "codemirror_mode": {
    "name": "ipython",
    "version": 3
   },
   "file_extension": ".py",
   "mimetype": "text/x-python",
   "name": "python",
   "nbconvert_exporter": "python",
   "pygments_lexer": "ipython3",
   "version": "3.13.1"
  }
 },
 "nbformat": 4,
 "nbformat_minor": 5
}
