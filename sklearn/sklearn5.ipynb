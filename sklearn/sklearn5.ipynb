{
 "cells": [
  {
   "cell_type": "markdown",
   "id": "4884c8f6",
   "metadata": {},
   "source": [
    "### scaling "
   ]
  },
  {
   "cell_type": "markdown",
   "id": "23f56423",
   "metadata": {},
   "source": [
    "types of scaling \n",
    "1."
   ]
  },
  {
   "cell_type": "markdown",
   "id": "a7093203",
   "metadata": {},
   "source": [
    "StandardScaler\n",
    "\n",
    "MinMaxScaler\n",
    "\n",
    "Log\n",
    "\n",
    "BoxCox\n",
    "\n",
    "Reciprocal\n"
   ]
  },
  {
   "cell_type": "code",
   "execution_count": null,
   "id": "a67facfb",
   "metadata": {},
   "outputs": [
    {
     "name": "stdout",
     "output_type": "stream",
     "text": [
      "    Age  Age_StandardScaled\n",
      "0  22.0           -0.592481\n",
      "1  38.0            0.638789\n",
      "2  26.0           -0.284663\n",
      "3  35.0            0.407926\n",
      "4  35.0            0.407926\n"
     ]
    }
   ],
   "source": [
    "import pandas as pd\n",
    "from sklearn.preprocessing import StandardScaler\n",
    "\n",
    "df = pd.read_csv(r'C:\\Users\\svish\\OneDrive\\Desktop\\titanic-dataset\\train.csv')\n",
    "\n",
    "df['Age'] = df['Age'].fillna(df['Age'].mean())\n",
    "\n",
    "scaler = StandardScaler()\n",
    "df['Age_StandardScaled'] = scaler.fit_transform(df[['Age']])\n",
    "\n",
    "print(df[['Age', 'Age_StandardScaled']].head())\n"
   ]
  },
  {
   "cell_type": "code",
   "execution_count": 4,
   "id": "d7d3e4dd",
   "metadata": {},
   "outputs": [
    {
     "name": "stdout",
     "output_type": "stream",
     "text": [
      "    Age  Age_MinMaxScaled\n",
      "0  22.0          0.271174\n",
      "1  38.0          0.472229\n",
      "2  26.0          0.321438\n",
      "3  35.0          0.434531\n",
      "4  35.0          0.434531\n"
     ]
    }
   ],
   "source": [
    "#min max scaler\n",
    "from sklearn.preprocessing import MinMaxScaler\n",
    "df['Age'] = df['Age'].fillna(df['Age'].mean())\n",
    "\n",
    "scaler = MinMaxScaler()\n",
    "df['Age_MinMaxScaled'] = scaler.fit_transform(df[['Age']])\n",
    "\n",
    "print(df[['Age', 'Age_MinMaxScaled']].head())"
   ]
  },
  {
   "cell_type": "code",
   "execution_count": 5,
   "id": "00e6739e",
   "metadata": {},
   "outputs": [
    {
     "name": "stdout",
     "output_type": "stream",
     "text": [
      "      Fare  Fare_LogScaled\n",
      "0   7.2500        2.110213\n",
      "1  71.2833        4.280593\n",
      "2   7.9250        2.188856\n",
      "3  53.1000        3.990834\n",
      "4   8.0500        2.202765\n"
     ]
    }
   ],
   "source": [
    "#log scaling\n",
    "import numpy as np\n",
    "df['Fare'] = df['Fare'].fillna(df['Fare'].mean())\n",
    "\n",
    "# Add 1 to avoid log(0)\n",
    "df['Fare_LogScaled'] = np.log1p(df['Fare'])\n",
    "\n",
    "print(df[['Fare', 'Fare_LogScaled']].head())"
   ]
  },
  {
   "cell_type": "code",
   "execution_count": 6,
   "id": "2c4f3e28",
   "metadata": {},
   "outputs": [
    {
     "name": "stdout",
     "output_type": "stream",
     "text": [
      "      Fare  Fare_BoxCoxScaled\n",
      "0   7.2500          -1.234679\n",
      "1  71.2833           1.374322\n",
      "2   7.9250          -1.064366\n",
      "3  53.1000           1.186050\n",
      "4   8.0500          -1.035237\n"
     ]
    }
   ],
   "source": [
    "#boxcox \n",
    "from sklearn.preprocessing import PowerTransformer\n",
    "df['Fare'] = df['Fare'].fillna(df['Fare'].mean())\n",
    "\n",
    "df_positive = df[df['Fare'] > 0].copy()\n",
    "\n",
    "pt = PowerTransformer(method='box-cox')\n",
    "df_positive['Fare_BoxCoxScaled'] = pt.fit_transform(df_positive[['Fare']])\n",
    "\n",
    "print(df_positive[['Fare', 'Fare_BoxCoxScaled']].head())\n"
   ]
  },
  {
   "cell_type": "code",
   "execution_count": 7,
   "id": "d5761ac8",
   "metadata": {},
   "outputs": [
    {
     "name": "stdout",
     "output_type": "stream",
     "text": [
      "      Fare  Fare_Reciprocal\n",
      "0   7.2500         0.121212\n",
      "1  71.2833         0.013834\n",
      "2   7.9250         0.112045\n",
      "3  53.1000         0.018484\n",
      "4   8.0500         0.110497\n"
     ]
    }
   ],
   "source": [
    "#reciprocal\n",
    "df['Fare'] = df['Fare'].fillna(df['Fare'].mean())\n",
    "\n",
    "# Add 1 to avoid division by zero\n",
    "df['Fare_Reciprocal'] = 1 / (df['Fare'] + 1)\n",
    "\n",
    "print(df[['Fare', 'Fare_Reciprocal']].head())"
   ]
  }
 ],
 "metadata": {
  "kernelspec": {
   "display_name": "venv",
   "language": "python",
   "name": "python3"
  },
  "language_info": {
   "codemirror_mode": {
    "name": "ipython",
    "version": 3
   },
   "file_extension": ".py",
   "mimetype": "text/x-python",
   "name": "python",
   "nbconvert_exporter": "python",
   "pygments_lexer": "ipython3",
   "version": "3.13.1"
  }
 },
 "nbformat": 4,
 "nbformat_minor": 5
}
