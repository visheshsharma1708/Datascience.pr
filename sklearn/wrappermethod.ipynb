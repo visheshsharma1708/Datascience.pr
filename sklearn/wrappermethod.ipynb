{
 "cells": [
  {
   "cell_type": "markdown",
   "id": "744a58f5",
   "metadata": {},
   "source": [
    "## Wrapper method "
   ]
  },
  {
   "cell_type": "markdown",
   "id": "1f57ac21",
   "metadata": {},
   "source": [
    "RFE method (recursive feature elemination )"
   ]
  },
  {
   "cell_type": "code",
   "execution_count": null,
   "id": "ff4db888",
   "metadata": {},
   "outputs": [
    {
     "name": "stdout",
     "output_type": "stream",
     "text": [
      "Selected features: ['Pclass', 'Sex', 'Embarked']\n",
      "Accuracy: 0.7902097902097902\n"
     ]
    }
   ],
   "source": [
    "import pandas as pd\n",
    "from sklearn.preprocessing import LabelEncoder\n",
    "from sklearn.linear_model import LogisticRegression\n",
    "from sklearn.feature_selection import RFE\n",
    "from sklearn.model_selection import train_test_split\n",
    "from sklearn.metrics import accuracy_score\n",
    "\n",
    "df = pd.read_csv(\"C:\\\\Users\\\\svish\\\\OneDrive\\\\Desktop\\\\titanic-dataset\\\\train.csv\")\n",
    "\n",
    "df = df[['Survived', 'Pclass', 'Sex', 'Age', 'Fare', 'Embarked']]\n",
    "df.dropna(inplace=True)\n",
    "\n",
    "#  Encode categorical values\n",
    "df['Sex'] = LabelEncoder().fit_transform(df['Sex'])\n",
    "df['Embarked'] = LabelEncoder().fit_transform(df['Embarked'])\n",
    "\n",
    "X = df.drop('Survived', axis=1)\n",
    "y = df['Survived']\n",
    "\n",
    "X_train, X_test, y_train, y_test = train_test_split(X, y, test_size=0.2, random_state=0)\n",
    "\n",
    "#  Apply RFE with Logistic Regression\n",
    "model = LogisticRegression()\n",
    "rfe = RFE(model, n_features_to_select=3)  # Select top 3 features\n",
    "rfe.fit(X_train, y_train)\n",
    "\n",
    "selected_features = X.columns[rfe.support_]\n",
    "print(\"Selected features:\", selected_features.tolist())\n",
    "\n",
    "\n",
    "model.fit(X_train[selected_features], y_train)\n",
    "y_pred = model.predict(X_test[selected_features])\n",
    "\n",
    "print(\"Accuracy:\", accuracy_score(y_test, y_pred))\n"
   ]
  },
  {
   "cell_type": "markdown",
   "id": "aed122f6",
   "metadata": {},
   "source": [
    "### Deepcheck"
   ]
  }
 ],
 "metadata": {
  "kernelspec": {
   "display_name": "venv",
   "language": "python",
   "name": "python3"
  },
  "language_info": {
   "codemirror_mode": {
    "name": "ipython",
    "version": 3
   },
   "file_extension": ".py",
   "mimetype": "text/x-python",
   "name": "python",
   "nbconvert_exporter": "python",
   "pygments_lexer": "ipython3",
   "version": "3.13.1"
  }
 },
 "nbformat": 4,
 "nbformat_minor": 5
}
